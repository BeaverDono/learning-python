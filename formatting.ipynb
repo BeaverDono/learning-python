{
 "cells": [
  {
   "cell_type": "code",
   "execution_count": 2,
   "source": [
    "print('This is a string {}'.format('INSERTED'))"
   ],
   "outputs": [
    {
     "output_type": "stream",
     "name": "stdout",
     "text": [
      "This is a string INSERTED\n"
     ]
    }
   ],
   "metadata": {}
  },
  {
   "cell_type": "code",
   "execution_count": 5,
   "source": [
    "print('The {} {} {}'.format('fox','brown','quick'))\r\n",
    "print('The {2} {1} {0}'.format('fox','brown','quick'))\r\n",
    "print('The {0} {0} {0}'.format('fox','brown','quick'))"
   ],
   "outputs": [
    {
     "output_type": "stream",
     "name": "stdout",
     "text": [
      "The fox brown quick\n",
      "The quick brown fox\n",
      "The fox fox fox\n"
     ]
    }
   ],
   "metadata": {}
  },
  {
   "cell_type": "code",
   "execution_count": 6,
   "source": [
    "print('The {q} {b} {f}'.format(f='fox',b='brown',q='quick'))"
   ],
   "outputs": [
    {
     "output_type": "stream",
     "name": "stdout",
     "text": [
      "The quick brown fox\n"
     ]
    }
   ],
   "metadata": {}
  },
  {
   "cell_type": "code",
   "execution_count": 30,
   "source": [
    "result = 100/777\r\n",
    "\r\n",
    "#result # 0.1287001287001287\r\n",
    "\r\n",
    "#Float formatting follows {value:width.precision f}\r\n",
    "print(\"The result was {r}\".format(r=result))\r\n",
    "print(\"The result was {r:1.3f}\".format(r=result))\r\n",
    "\r\n",
    "# Note that the width value is the number of characters shown from the value\r\n",
    "print(\"The result was {r:10.3f}\".format(r=result))\r\n",
    "\r\n",
    "print(\"The result was {r:10.5f}\".format(r=result))\r\n"
   ],
   "outputs": [
    {
     "output_type": "stream",
     "name": "stdout",
     "text": [
      "The result was 0.1287001287001287\n",
      "The result was 0.129\n",
      "The result was      0.129\n",
      "The result was    0.12870\n"
     ]
    }
   ],
   "metadata": {}
  },
  {
   "cell_type": "code",
   "execution_count": 31,
   "source": [
    "# F string literal\r\n",
    "\r\n",
    "name = \"Oliver\"\r\n",
    "print(f'Hello, his name is {name}')\r\n",
    "\r\n",
    "age = 2\r\n",
    "\r\n",
    "print(f'{name} is {age} years old.')"
   ],
   "outputs": [
    {
     "output_type": "stream",
     "name": "stdout",
     "text": [
      "Hello, his name is Oliver\n",
      "Oliver is 2 years old.\n"
     ]
    }
   ],
   "metadata": {}
  }
 ],
 "metadata": {
  "orig_nbformat": 4,
  "language_info": {
   "name": "python",
   "version": "3.7.3",
   "mimetype": "text/x-python",
   "codemirror_mode": {
    "name": "ipython",
    "version": 3
   },
   "pygments_lexer": "ipython3",
   "nbconvert_exporter": "python",
   "file_extension": ".py"
  },
  "kernelspec": {
   "name": "python3",
   "display_name": "Python 3.7.3 64-bit"
  },
  "interpreter": {
   "hash": "eb2c514dd9bc3b32b4e7938429fc4a419a20f94571fd536c1c25d27524eb6a7d"
  }
 },
 "nbformat": 4,
 "nbformat_minor": 2
}