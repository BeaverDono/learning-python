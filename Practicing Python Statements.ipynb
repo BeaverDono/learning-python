{
 "cells": [
  {
   "cell_type": "markdown",
   "id": "fbfde61c",
   "metadata": {},
   "source": [
    "if elif and else\n",
    "\n",
    "#Control Flow syntax (with white space)\n",
    "\n",
    "if something:\n",
    "    #execute this code if condition is true\n",
    "elif something_else:\n",
    "    #another condition\n",
    "else:\n",
    "    #do something else if anything of the conditions aren't used "
   ]
  },
  {
   "cell_type": "code",
   "execution_count": 12,
   "id": "b51f74a8",
   "metadata": {},
   "outputs": [
    {
     "name": "stdout",
     "output_type": "stream",
     "text": [
      "I'M FULL\n"
     ]
    }
   ],
   "source": [
    "hungry = False\n",
    "\n",
    "if hungry == True:\n",
    "    print(\"FEED ME\")\n",
    "else:\n",
    "    print(\"I'M FULL\")"
   ]
  },
  {
   "cell_type": "code",
   "execution_count": 18,
   "id": "976125d8",
   "metadata": {},
   "outputs": [
    {
     "name": "stdout",
     "output_type": "stream",
     "text": [
      "Gassing up my car..\n"
     ]
    }
   ],
   "source": [
    "loc = 'Gas'\n",
    "\n",
    "if loc == 'Shop':\n",
    "    print('At the shop')\n",
    "elif loc == 'Bank':\n",
    "    print('At the bank!')\n",
    "elif loc == 'Gas':\n",
    "    print('Gassing up my car..')\n",
    "else:\n",
    "    print('No clue where I am..')"
   ]
  },
  {
   "cell_type": "code",
   "execution_count": 22,
   "id": "f1cad348",
   "metadata": {},
   "outputs": [
    {
     "name": "stdout",
     "output_type": "stream",
     "text": [
      "What is your name?\n"
     ]
    }
   ],
   "source": [
    "name = 'Oliver'\n",
    "\n",
    "if name == 'Frankie':\n",
    "    print('Hello Frankie!')\n",
    "elif name == \"Sammy\":\n",
    "    print('Hello Sammy!')\n",
    "else:\n",
    "    print(\"What is your name?\")"
   ]
  },
  {
   "cell_type": "markdown",
   "id": "429c04e7",
   "metadata": {},
   "source": [
    "# NOTES\n",
    "\n",
    "Playing around with For Loops...\n",
    "\n",
    "Syntax\n",
    "\n",
    "my_iterable = [1,2,3]\n",
    "for item_name in my_iterable:\n",
    "    print(item_name)\n",
    "    \n",
    ">> 1\n",
    ">> 2\n",
    ">> 3"
   ]
  },
  {
   "cell_type": "code",
   "execution_count": 23,
   "id": "c89db421",
   "metadata": {},
   "outputs": [],
   "source": [
    "mylist = [1,2,3,4,5,6,7,8,9,10]"
   ]
  },
  {
   "cell_type": "code",
   "execution_count": 29,
   "id": "1e62c4ac",
   "metadata": {},
   "outputs": [
    {
     "name": "stdout",
     "output_type": "stream",
     "text": [
      "1\n",
      "2\n",
      "3\n",
      "4\n",
      "5\n",
      "6\n",
      "7\n",
      "8\n",
      "9\n",
      "10\n"
     ]
    }
   ],
   "source": [
    "for num in mylist:\n",
    "    print(num)"
   ]
  },
  {
   "cell_type": "code",
   "execution_count": 34,
   "id": "2b59504d",
   "metadata": {},
   "outputs": [
    {
     "name": "stdout",
     "output_type": "stream",
     "text": [
      "Odd Number: 1\n",
      "2\n",
      "Odd Number: 3\n",
      "4\n",
      "Odd Number: 5\n",
      "6\n",
      "Odd Number: 7\n",
      "8\n",
      "Odd Number: 9\n",
      "10\n"
     ]
    }
   ],
   "source": [
    "for num in mylist:\n",
    "    # Check for evens\n",
    "    if num % 2 == 0:\n",
    "        print(num)\n",
    "    # If the number is odd\n",
    "    else:\n",
    "        # 'f' lets you print the variable on screen\n",
    "        print(f'Odd Number: {num}')"
   ]
  },
  {
   "cell_type": "code",
   "execution_count": 36,
   "id": "1a2ec289",
   "metadata": {},
   "outputs": [
    {
     "name": "stdout",
     "output_type": "stream",
     "text": [
      "55\n"
     ]
    }
   ],
   "source": [
    "list_sum = 0\n",
    "\n",
    "for num in mylist:\n",
    "    list_sum = list_sum + num\n",
    "    # If the print statement was part of the loop it would give us a running tally\n",
    "    # print(list_sum)\n",
    "\n",
    "print(list_sum)"
   ]
  },
  {
   "cell_type": "code",
   "execution_count": 38,
   "id": "39ad90e0",
   "metadata": {},
   "outputs": [
    {
     "name": "stdout",
     "output_type": "stream",
     "text": [
      "H\n",
      "e\n",
      "l\n",
      "l\n",
      "o\n",
      " \n",
      "W\n",
      "o\n",
      "r\n",
      "l\n",
      "d\n"
     ]
    }
   ],
   "source": [
    "mystring = 'Hello World'\n",
    "\n",
    "for letter in mystring:\n",
    "    print(letter)"
   ]
  },
  {
   "cell_type": "code",
   "execution_count": 44,
   "id": "aa3b4881",
   "metadata": {},
   "outputs": [
    {
     "name": "stdout",
     "output_type": "stream",
     "text": [
      "1\n",
      "2\n",
      "3\n"
     ]
    }
   ],
   "source": [
    "tup = (1,2,3)\n",
    "for item in tup:\n",
    "    print(item)"
   ]
  },
  {
   "cell_type": "markdown",
   "id": "7346112a",
   "metadata": {},
   "source": [
    "# Tup Unpacking"
   ]
  },
  {
   "cell_type": "code",
   "execution_count": 41,
   "id": "53d5f928",
   "metadata": {},
   "outputs": [],
   "source": [
    "myList = [(1,2),(3,4),(5,6),(7,8)]"
   ]
  },
  {
   "cell_type": "code",
   "execution_count": 42,
   "id": "e5061f58",
   "metadata": {},
   "outputs": [
    {
     "data": {
      "text/plain": [
       "4"
      ]
     },
     "execution_count": 42,
     "metadata": {},
     "output_type": "execute_result"
    }
   ],
   "source": [
    "len(myList)"
   ]
  },
  {
   "cell_type": "code",
   "execution_count": 45,
   "id": "9bf2c012",
   "metadata": {},
   "outputs": [
    {
     "name": "stdout",
     "output_type": "stream",
     "text": [
      "(1, 2)\n",
      "(3, 4)\n",
      "(5, 6)\n",
      "(7, 8)\n"
     ]
    }
   ],
   "source": [
    "for item in myList:\n",
    "    print(item)"
   ]
  },
  {
   "cell_type": "code",
   "execution_count": 48,
   "id": "9dfc2ec8",
   "metadata": {},
   "outputs": [
    {
     "name": "stdout",
     "output_type": "stream",
     "text": [
      "2\n",
      "4\n",
      "6\n",
      "8\n"
     ]
    }
   ],
   "source": [
    "for (a,b) in myList:\n",
    "    print(b)"
   ]
  },
  {
   "cell_type": "code",
   "execution_count": 52,
   "id": "c27df2e2",
   "metadata": {},
   "outputs": [
    {
     "name": "stdout",
     "output_type": "stream",
     "text": [
      "k1 1\n",
      "k2 2\n",
      "k3 3\n"
     ]
    }
   ],
   "source": [
    "#Unpacking a dictionary\n",
    "\n",
    "d = {'k1':1, 'k2':2, 'k3':3}\n",
    "\n",
    "for key, value in d.items():\n",
    "    print(key, value)\n",
    "    #print(key)\n",
    "    #print(value)"
   ]
  },
  {
   "cell_type": "code",
   "execution_count": 54,
   "id": "941b31e8",
   "metadata": {},
   "outputs": [
    {
     "name": "stdout",
     "output_type": "stream",
     "text": [
      "1\n",
      "2\n",
      "3\n"
     ]
    }
   ],
   "source": [
    "for value in d.values():\n",
    "    print(value)"
   ]
  },
  {
   "cell_type": "code",
   "execution_count": 58,
   "id": "427a3a7c",
   "metadata": {},
   "outputs": [
    {
     "name": "stdout",
     "output_type": "stream",
     "text": [
      "k1\n",
      "k2\n",
      "k3\n"
     ]
    }
   ],
   "source": [
    "for key in d.keys():\n",
    "    print(key)"
   ]
  },
  {
   "cell_type": "markdown",
   "id": "2a017a2a",
   "metadata": {},
   "source": [
    "# While Loops Practice\n",
    "\n",
    "while some_boolean_condition:\n",
    "    do something\n",
    "else:\n",
    "    do something different"
   ]
  },
  {
   "cell_type": "code",
   "execution_count": 62,
   "id": "1d4b3bf1",
   "metadata": {},
   "outputs": [
    {
     "name": "stdout",
     "output_type": "stream",
     "text": [
      "The current value of x is 0\n",
      "The current value of x is 1\n",
      "The current value of x is 2\n",
      "The current value of x is 3\n",
      "The current value of x is 4\n",
      "X IS NOT LESS THAN 5\n"
     ]
    }
   ],
   "source": [
    "x = 0\n",
    "while x < 5:\n",
    "    print(f'The current value of x is {x}')\n",
    "    #x = x + 1\n",
    "    x += 1\n",
    "else:\n",
    "    print('X IS NOT LESS THAN 5')"
   ]
  },
  {
   "cell_type": "markdown",
   "id": "4fb64e54",
   "metadata": {},
   "source": [
    "# BREAK, CONTINUE, PASS"
   ]
  },
  {
   "cell_type": "code",
   "execution_count": 67,
   "id": "4e15e0f4",
   "metadata": {},
   "outputs": [
    {
     "name": "stdout",
     "output_type": "stream",
     "text": [
      "End of Script\n"
     ]
    }
   ],
   "source": [
    "x = [1,2,3]\n",
    "\n",
    "for item in x:\n",
    "    pass #placeholder\n",
    "\n",
    "print('End of Script')"
   ]
  },
  {
   "cell_type": "code",
   "execution_count": 68,
   "id": "7c120532",
   "metadata": {},
   "outputs": [],
   "source": [
    "myStr = 'Sammy'"
   ]
  },
  {
   "cell_type": "code",
   "execution_count": 72,
   "id": "0e911030",
   "metadata": {},
   "outputs": [
    {
     "name": "stdout",
     "output_type": "stream",
     "text": [
      "S\n",
      "m\n",
      "m\n",
      "y\n"
     ]
    }
   ],
   "source": [
    "for letter in myStr:\n",
    "    if letter == 'a':\n",
    "        continue\n",
    "    print(letter)"
   ]
  },
  {
   "cell_type": "code",
   "execution_count": 74,
   "id": "f22d218a",
   "metadata": {},
   "outputs": [
    {
     "name": "stdout",
     "output_type": "stream",
     "text": [
      "S\n"
     ]
    }
   ],
   "source": [
    "for letter in myStr:\n",
    "    if letter == 'a':\n",
    "        break\n",
    "    print(letter)"
   ]
  },
  {
   "cell_type": "code",
   "execution_count": 76,
   "id": "c0b7a273",
   "metadata": {},
   "outputs": [
    {
     "name": "stdout",
     "output_type": "stream",
     "text": [
      "0\n",
      "1\n"
     ]
    }
   ],
   "source": [
    "x = 0\n",
    "\n",
    "while x < 5:\n",
    "    if x == 2:\n",
    "        break\n",
    "    print(x)\n",
    "    x += 1"
   ]
  },
  {
   "cell_type": "markdown",
   "id": "f61a83e1",
   "metadata": {},
   "source": [
    "# Toying Around"
   ]
  },
  {
   "cell_type": "code",
   "execution_count": 79,
   "id": "baad994b",
   "metadata": {},
   "outputs": [
    {
     "name": "stdout",
     "output_type": "stream",
     "text": [
      "0\n",
      "2\n",
      "4\n",
      "6\n",
      "8\n"
     ]
    }
   ],
   "source": [
    "#mylist = [1,2,3]\n",
    "\n",
    "#Range operator\n",
    "\n",
    "for num in range(0,10,2):\n",
    "    print(num)"
   ]
  },
  {
   "cell_type": "code",
   "execution_count": 81,
   "id": "a4c0189e",
   "metadata": {},
   "outputs": [
    {
     "data": {
      "text/plain": [
       "[0, 2, 4, 6, 8]"
      ]
     },
     "execution_count": 81,
     "metadata": {},
     "output_type": "execute_result"
    }
   ],
   "source": [
    "list(range(0,10,2))"
   ]
  },
  {
   "cell_type": "code",
   "execution_count": 84,
   "id": "dcc81cb0",
   "metadata": {},
   "outputs": [
    {
     "name": "stdout",
     "output_type": "stream",
     "text": [
      "At index 0 letter is a\n",
      "At index 1 letter is b\n",
      "At index 2 letter is c\n",
      "At index 3 letter is d\n",
      "At index 4 letter is e\n"
     ]
    }
   ],
   "source": [
    "index_count = 0\n",
    "\n",
    "for letter in 'abcde':\n",
    "    print('At index {} letter is {}'.format(index_count, letter))\n",
    "    index_count += 1"
   ]
  },
  {
   "cell_type": "code",
   "execution_count": 86,
   "id": "ef85f458",
   "metadata": {},
   "outputs": [
    {
     "name": "stdout",
     "output_type": "stream",
     "text": [
      "a\n",
      "b\n",
      "c\n",
      "d\n",
      "e\n"
     ]
    }
   ],
   "source": [
    "index_count = 0\n",
    "word = 'abcde'\n",
    "\n",
    "for letter in word:\n",
    "    print(word[index_count])\n",
    "    index_count += 1\n",
    "    \n",
    "# There is a better way to do this.."
   ]
  },
  {
   "cell_type": "code",
   "execution_count": 88,
   "id": "28bdf68e",
   "metadata": {},
   "outputs": [
    {
     "name": "stdout",
     "output_type": "stream",
     "text": [
      "(0, 'a')\n",
      "(1, 'b')\n",
      "(2, 'c')\n",
      "(3, 'd')\n",
      "(4, 'e')\n"
     ]
    }
   ],
   "source": [
    "#Enumerate --> Iterable\n",
    "\n",
    "word = 'abcde'\n",
    "\n",
    "for item in enumerate(word):\n",
    "    print(item)"
   ]
  },
  {
   "cell_type": "code",
   "execution_count": 93,
   "id": "3e246b46",
   "metadata": {},
   "outputs": [
    {
     "name": "stdout",
     "output_type": "stream",
     "text": [
      "(1, 'a', 100)\n",
      "(2, 'b', 200)\n",
      "(3, 'c', 300)\n"
     ]
    }
   ],
   "source": [
    "# Zip Function\n",
    "\n",
    "mylist1 = [1,2,3]\n",
    "mylist2 = ['a', 'b', 'c']\n",
    "mylist3 = [100, 200, 300, 400, 500] #Zip drops the extra\n",
    "\n",
    "for item in zip(mylist1, mylist2, mylist3):\n",
    "    print(item)"
   ]
  },
  {
   "cell_type": "code",
   "execution_count": 95,
   "id": "fe2aad26",
   "metadata": {},
   "outputs": [
    {
     "name": "stdout",
     "output_type": "stream",
     "text": [
      "100\n",
      "200\n",
      "300\n"
     ]
    }
   ],
   "source": [
    "for a,b,c in zip(mylist1, mylist2, mylist3):\n",
    "    print(c) #Only prints out 3 entries since the smallest list is only 3 entries long"
   ]
  },
  {
   "cell_type": "code",
   "execution_count": 96,
   "id": "5f5851fa",
   "metadata": {},
   "outputs": [
    {
     "data": {
      "text/plain": [
       "[(1, 'a'), (2, 'b'), (3, 'c')]"
      ]
     },
     "execution_count": 96,
     "metadata": {},
     "output_type": "execute_result"
    }
   ],
   "source": [
    "list(zip(mylist1, mylist2))"
   ]
  },
  {
   "cell_type": "markdown",
   "id": "f9a57252",
   "metadata": {},
   "source": [
    "# Toying with In operator"
   ]
  },
  {
   "cell_type": "code",
   "execution_count": 98,
   "id": "622549d2",
   "metadata": {},
   "outputs": [
    {
     "data": {
      "text/plain": [
       "True"
      ]
     },
     "execution_count": 98,
     "metadata": {},
     "output_type": "execute_result"
    }
   ],
   "source": [
    "2 in [1,2,3]"
   ]
  },
  {
   "cell_type": "code",
   "execution_count": 103,
   "id": "cf00b3f6",
   "metadata": {},
   "outputs": [
    {
     "data": {
      "text/plain": [
       "False"
      ]
     },
     "execution_count": 103,
     "metadata": {},
     "output_type": "execute_result"
    }
   ],
   "source": [
    "'x' in [1,2,3]"
   ]
  },
  {
   "cell_type": "code",
   "execution_count": 107,
   "id": "bb78c771",
   "metadata": {},
   "outputs": [
    {
     "data": {
      "text/plain": [
       "False"
      ]
     },
     "execution_count": 107,
     "metadata": {},
     "output_type": "execute_result"
    }
   ],
   "source": [
    "'o' in 'Oliver' #case senitive"
   ]
  },
  {
   "cell_type": "code",
   "execution_count": 110,
   "id": "6a0d60f9",
   "metadata": {},
   "outputs": [
    {
     "data": {
      "text/plain": [
       "True"
      ]
     },
     "execution_count": 110,
     "metadata": {},
     "output_type": "execute_result"
    }
   ],
   "source": [
    "'mykey' in {'mykey':500}"
   ]
  },
  {
   "cell_type": "code",
   "execution_count": 117,
   "id": "cee0662d",
   "metadata": {},
   "outputs": [
    {
     "data": {
      "text/plain": [
       "True"
      ]
     },
     "execution_count": 117,
     "metadata": {},
     "output_type": "execute_result"
    }
   ],
   "source": [
    "d = {'mykey':500}\n",
    "\n",
    "500 in d.values()\n",
    "#500 in d.keys() #Returns false"
   ]
  },
  {
   "cell_type": "markdown",
   "id": "9f1c11f2",
   "metadata": {},
   "source": [
    "# Min/Max Function"
   ]
  },
  {
   "cell_type": "code",
   "execution_count": 119,
   "id": "a395f0dc",
   "metadata": {},
   "outputs": [
    {
     "data": {
      "text/plain": [
       "10"
      ]
     },
     "execution_count": 119,
     "metadata": {},
     "output_type": "execute_result"
    }
   ],
   "source": [
    "mylist = [10,20,30,40,50]\n",
    "min(mylist)"
   ]
  },
  {
   "cell_type": "code",
   "execution_count": 121,
   "id": "43d4dabf",
   "metadata": {},
   "outputs": [
    {
     "data": {
      "text/plain": [
       "50"
      ]
     },
     "execution_count": 121,
     "metadata": {},
     "output_type": "execute_result"
    }
   ],
   "source": [
    "max(mylist)"
   ]
  },
  {
   "cell_type": "code",
   "execution_count": 129,
   "id": "d1c42435",
   "metadata": {},
   "outputs": [
    {
     "name": "stdout",
     "output_type": "stream",
     "text": [
      "The lowest value is 10\n",
      "\n",
      "The highest value is 50\n"
     ]
    }
   ],
   "source": [
    "print(f'The lowest value is {min(mylist)}\\n')\n",
    "print(f'The highest value is {max(mylist)}')"
   ]
  },
  {
   "cell_type": "markdown",
   "id": "83e5f37e",
   "metadata": {},
   "source": [
    "# Import a Library"
   ]
  },
  {
   "cell_type": "code",
   "execution_count": 130,
   "id": "79b234e6",
   "metadata": {},
   "outputs": [],
   "source": [
    "from random import shuffle"
   ]
  },
  {
   "cell_type": "code",
   "execution_count": 136,
   "id": "d2b27560",
   "metadata": {},
   "outputs": [
    {
     "name": "stdout",
     "output_type": "stream",
     "text": [
      "[10, 30, 50, 40, 20]\n"
     ]
    }
   ],
   "source": [
    "shuffle(mylist)\n",
    "print(mylist)"
   ]
  },
  {
   "cell_type": "code",
   "execution_count": 143,
   "id": "7af05993",
   "metadata": {},
   "outputs": [
    {
     "data": {
      "text/plain": [
       "36"
      ]
     },
     "execution_count": 143,
     "metadata": {},
     "output_type": "execute_result"
    }
   ],
   "source": [
    "from random import randint\n",
    "randint(0, 100)"
   ]
  },
  {
   "cell_type": "markdown",
   "id": "a45763ab",
   "metadata": {},
   "source": [
    "# Input"
   ]
  },
  {
   "cell_type": "code",
   "execution_count": 153,
   "id": "7ae7db88",
   "metadata": {},
   "outputs": [
    {
     "name": "stdout",
     "output_type": "stream",
     "text": [
      "Enter a number here: 50\n"
     ]
    }
   ],
   "source": [
    "result = input('Enter a number here: ')"
   ]
  },
  {
   "cell_type": "code",
   "execution_count": 154,
   "id": "8e7b4a95",
   "metadata": {},
   "outputs": [
    {
     "data": {
      "text/plain": [
       "'50'"
      ]
     },
     "execution_count": 154,
     "metadata": {},
     "output_type": "execute_result"
    }
   ],
   "source": [
    "result"
   ]
  },
  {
   "cell_type": "code",
   "execution_count": 156,
   "id": "1f4b61fa",
   "metadata": {},
   "outputs": [
    {
     "data": {
      "text/plain": [
       "50.0"
      ]
     },
     "execution_count": 156,
     "metadata": {},
     "output_type": "execute_result"
    }
   ],
   "source": [
    "float(result) #Convert it to a number"
   ]
  },
  {
   "cell_type": "code",
   "execution_count": 157,
   "id": "55264cd5",
   "metadata": {},
   "outputs": [],
   "source": [
    "# There is no error/exception handling at the moment if the user inputs something other than an integer"
   ]
  },
  {
   "cell_type": "markdown",
   "id": "d44fbd75",
   "metadata": {},
   "source": [
    "# List Comprehensions"
   ]
  },
  {
   "cell_type": "code",
   "execution_count": 158,
   "id": "989665df",
   "metadata": {},
   "outputs": [],
   "source": [
    "mystring = 'hello'"
   ]
  },
  {
   "cell_type": "code",
   "execution_count": 159,
   "id": "4633cc6f",
   "metadata": {},
   "outputs": [],
   "source": [
    "mylist = []\n",
    "\n",
    "for l in mystring:\n",
    "    mylist.append(l)"
   ]
  },
  {
   "cell_type": "code",
   "execution_count": 161,
   "id": "7646d6e6",
   "metadata": {},
   "outputs": [
    {
     "data": {
      "text/plain": [
       "['h', 'e', 'l', 'l', 'o']"
      ]
     },
     "execution_count": 161,
     "metadata": {},
     "output_type": "execute_result"
    }
   ],
   "source": [
    "mylist"
   ]
  },
  {
   "cell_type": "code",
   "execution_count": 168,
   "id": "352998e3",
   "metadata": {},
   "outputs": [
    {
     "name": "stdout",
     "output_type": "stream",
     "text": [
      "[]\n",
      "['h', 'e', 'l', 'l', 'o']\n"
     ]
    }
   ],
   "source": [
    "mylist = []\n",
    "print(mylist)\n",
    "mylist = [l for l in mystring]  # For Loop flattened\n",
    "print(mylist)"
   ]
  },
  {
   "cell_type": "code",
   "execution_count": 170,
   "id": "bd10eb76",
   "metadata": {},
   "outputs": [],
   "source": [
    "mylist = [num for num in range(0,11)]  # Should assign 0 through 10 to the variable mylist"
   ]
  },
  {
   "cell_type": "code",
   "execution_count": 172,
   "id": "e9ff8aad",
   "metadata": {},
   "outputs": [
    {
     "data": {
      "text/plain": [
       "[0, 1, 2, 3, 4, 5, 6, 7, 8, 9, 10]"
      ]
     },
     "execution_count": 172,
     "metadata": {},
     "output_type": "execute_result"
    }
   ],
   "source": [
    "mylist"
   ]
  },
  {
   "cell_type": "code",
   "execution_count": 175,
   "id": "37a031ca",
   "metadata": {},
   "outputs": [
    {
     "name": "stdout",
     "output_type": "stream",
     "text": [
      "[0, 1, 4, 9, 16, 25, 36, 49, 64, 81, 100]\n"
     ]
    }
   ],
   "source": [
    "mylist = [num**2 for num in range(0,11)]  # First 'num' can accept operations\n",
    "print(mylist)"
   ]
  },
  {
   "cell_type": "code",
   "execution_count": 179,
   "id": "5e9c3999",
   "metadata": {},
   "outputs": [
    {
     "name": "stdout",
     "output_type": "stream",
     "text": [
      "[0, 3, 6, 9]\n",
      "[0, 3, 6, 9]\n"
     ]
    }
   ],
   "source": [
    "mylist = [x for x in range(0,11) if x%3==0]\n",
    "print(mylist)\n",
    "mylist = [x for x in range(0,11,3)]\n",
    "print(mylist)"
   ]
  },
  {
   "cell_type": "code",
   "execution_count": 191,
   "id": "e890a77d",
   "metadata": {},
   "outputs": [
    {
     "name": "stdout",
     "output_type": "stream",
     "text": [
      "[32.0, 50.0, 68.0, 94.1, 97.34]\n"
     ]
    }
   ],
   "source": [
    "celcius = [0,10,20,34.5, 36.3]\n",
    "\n",
    "fahrenheit = [((9/5)*temp + 32) for temp in celcius]\n",
    "print(fahrenheit)"
   ]
  },
  {
   "cell_type": "code",
   "execution_count": 200,
   "id": "25611d42",
   "metadata": {},
   "outputs": [
    {
     "name": "stdout",
     "output_type": "stream",
     "text": [
      "Celcius: 0 = Fahrenheit: 32.0\n",
      "\n",
      "Celcius: 10 = Fahrenheit: 50.0\n",
      "\n",
      "Celcius: 20 = Fahrenheit: 68.0\n",
      "\n",
      "Celcius: 34.5 = Fahrenheit: 94.1\n",
      "\n",
      "Celcius: 36.3 = Fahrenheit: 97.34\n",
      "\n"
     ]
    }
   ],
   "source": [
    "for x in range(len(celcius)):\n",
    "    #print(f'X is at {x}')\n",
    "    print(f'Celcius: {celcius[x]} = Fahrenheit: {fahrenheit[x]}\\n')"
   ]
  },
  {
   "cell_type": "code",
   "execution_count": 202,
   "id": "baf3031c",
   "metadata": {},
   "outputs": [],
   "source": [
    "mylist = []\n",
    "\n",
    "for x in [2,4,6]:\n",
    "    for y in [100, 200, 300]:\n",
    "        mylist.append(x*y)"
   ]
  },
  {
   "cell_type": "code",
   "execution_count": 204,
   "id": "c46cb0bf",
   "metadata": {},
   "outputs": [
    {
     "data": {
      "text/plain": [
       "[200, 400, 600, 400, 800, 1200, 600, 1200, 1800]"
      ]
     },
     "execution_count": 204,
     "metadata": {},
     "output_type": "execute_result"
    }
   ],
   "source": [
    "mylist"
   ]
  },
  {
   "cell_type": "code",
   "execution_count": 205,
   "id": "7a661fdd",
   "metadata": {},
   "outputs": [],
   "source": [
    "mylist = [x*y for x in [2,4,6] for y in [100,200,300]] #One liner.. I prefer readability"
   ]
  },
  {
   "cell_type": "code",
   "execution_count": 206,
   "id": "c78edbea",
   "metadata": {},
   "outputs": [
    {
     "data": {
      "text/plain": [
       "[200, 400, 600, 400, 800, 1200, 600, 1200, 1800]"
      ]
     },
     "execution_count": 206,
     "metadata": {},
     "output_type": "execute_result"
    }
   ],
   "source": [
    "mylist"
   ]
  }
 ],
 "metadata": {
  "kernelspec": {
   "display_name": "Python 3",
   "language": "python",
   "name": "python3"
  },
  "language_info": {
   "codemirror_mode": {
    "name": "ipython",
    "version": 3
   },
   "file_extension": ".py",
   "mimetype": "text/x-python",
   "name": "python",
   "nbconvert_exporter": "python",
   "pygments_lexer": "ipython3",
   "version": "3.8.8"
  }
 },
 "nbformat": 4,
 "nbformat_minor": 5
}
