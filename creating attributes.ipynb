{
 "cells": [
  {
   "cell_type": "code",
   "execution_count": 22,
   "source": [
    "## Object Oriented Programming Lecture Notes \r\n",
    "## Date: 9/1/2021\r\n",
    "\r\n",
    "mylist = [1,2,3]"
   ],
   "outputs": [],
   "metadata": {}
  },
  {
   "cell_type": "code",
   "execution_count": 23,
   "source": [
    "myset = set()"
   ],
   "outputs": [],
   "metadata": {}
  },
  {
   "cell_type": "code",
   "execution_count": 24,
   "source": [
    "#myset.pop() ---> object.attribute()\r\n",
    "type(myset) #Built in objects such as int() and list()"
   ],
   "outputs": [
    {
     "output_type": "execute_result",
     "data": {
      "text/plain": [
       "set"
      ]
     },
     "metadata": {},
     "execution_count": 24
    }
   ],
   "metadata": {}
  },
  {
   "cell_type": "code",
   "execution_count": 25,
   "source": [
    "# Defined a user-made class\r\n",
    "class Dog():\r\n",
    "    \r\n",
    "    # Class Object Attribute -- > Same for any instance of a class\r\n",
    "    # We don't need the 'self' keyword\r\n",
    "    species = 'mammal'  # From a biology standpoint, species is wrong but I'll let that slide..\r\n",
    "\r\n",
    "    # This is a function.. however, it is referred to as a method since it is in a class\r\n",
    "    # \"def __init__\" This is called upon anytime you make an instance of this class\r\n",
    "    # \"self\" connects this method to the instance of the class, allows it to refer to itself\r\n",
    "    # What attributes (characteristic of an object) does a dog have? Breed? Color? Height? Weight?\r\n",
    "    def __init__(self, breed, name, spots):  # def __constructor__(self, attribute):\r\n",
    "        # Attributes\r\n",
    "        # We take in the argument and assign it using self.attribute_name\r\n",
    "        \r\n",
    "        #String\r\n",
    "        self.breed = breed\r\n",
    "        self.name = name\r\n",
    "        \r\n",
    "        # Boolean -- > Needs type control   \r\n",
    "        self.spots = spots \r\n",
    "\r\n",
    "    # OPEARTIONS/Actions --> Methods\r\n",
    "    def bark(self,number):\r\n",
    "        \r\n",
    "        for i in range(number):\r\n",
    "            print('{}: \"Woof!\"'.format(self.name))\r\n",
    "            #print(f'{self.name}: \"Woof!\"')\r\n",
    "        else:\r\n",
    "            pass"
   ],
   "outputs": [],
   "metadata": {}
  },
  {
   "cell_type": "code",
   "execution_count": 26,
   "source": [
    "# Created an instance of that class\r\n",
    "mydog = Dog('Husky','Luna',False)"
   ],
   "outputs": [],
   "metadata": {}
  },
  {
   "cell_type": "code",
   "execution_count": 27,
   "source": [
    "# Check that instant\r\n",
    "type(mydog)"
   ],
   "outputs": [
    {
     "output_type": "execute_result",
     "data": {
      "text/plain": [
       "__main__.Dog"
      ]
     },
     "metadata": {},
     "execution_count": 27
    }
   ],
   "metadata": {}
  },
  {
   "cell_type": "code",
   "execution_count": 28,
   "source": [
    "# self.breed from Dog() class.. when we assigned the class to the variable, \r\n",
    "# the self.breed becomes mydog.breed\r\n",
    "print(mydog.breed)\r\n",
    "print(mydog.name)\r\n",
    "print(mydog.spots)\r\n",
    "print(mydog.species)\r\n"
   ],
   "outputs": [
    {
     "output_type": "stream",
     "name": "stdout",
     "text": [
      "Husky\n",
      "Luna\n",
      "False\n",
      "mammal\n"
     ]
    }
   ],
   "metadata": {}
  },
  {
   "cell_type": "code",
   "execution_count": 29,
   "source": [
    "mydog.bark(3)"
   ],
   "outputs": [
    {
     "output_type": "stream",
     "name": "stdout",
     "text": [
      "Luna: \"Woof!\"\n",
      "Luna: \"Woof!\"\n",
      "Luna: \"Woof!\"\n"
     ]
    }
   ],
   "metadata": {}
  },
  {
   "cell_type": "code",
   "execution_count": 30,
   "source": [
    "class Circle():\r\n",
    "\r\n",
    "    # Class object attribute\r\n",
    "    pi = 3.14\r\n",
    "\r\n",
    "    #What is called first method\r\n",
    "    def __init__(self,radius=1):\r\n",
    "        self.radius = radius\r\n",
    "        self.area = radius * radius * Circle.pi # or #self.pi\r\n",
    "\r\n",
    "    #Method\r\n",
    "    def get_circumference(self):\r\n",
    "        return self.radius * self.pi * 2"
   ],
   "outputs": [],
   "metadata": {}
  },
  {
   "cell_type": "code",
   "execution_count": 31,
   "source": [
    "mycircle = Circle(30)"
   ],
   "outputs": [],
   "metadata": {}
  },
  {
   "cell_type": "code",
   "execution_count": 32,
   "source": [
    "mycircle.pi"
   ],
   "outputs": [
    {
     "output_type": "execute_result",
     "data": {
      "text/plain": [
       "3.14"
      ]
     },
     "metadata": {},
     "execution_count": 32
    }
   ],
   "metadata": {}
  },
  {
   "cell_type": "code",
   "execution_count": 33,
   "source": [
    "mycircle.radius"
   ],
   "outputs": [
    {
     "output_type": "execute_result",
     "data": {
      "text/plain": [
       "30"
      ]
     },
     "metadata": {},
     "execution_count": 33
    }
   ],
   "metadata": {}
  },
  {
   "cell_type": "code",
   "execution_count": 34,
   "source": [
    "mycircle.get_circumference()"
   ],
   "outputs": [
    {
     "output_type": "execute_result",
     "data": {
      "text/plain": [
       "188.4"
      ]
     },
     "metadata": {},
     "execution_count": 34
    }
   ],
   "metadata": {}
  },
  {
   "cell_type": "code",
   "execution_count": 35,
   "source": [
    "mycircle.area"
   ],
   "outputs": [
    {
     "output_type": "execute_result",
     "data": {
      "text/plain": [
       "2826.0"
      ]
     },
     "metadata": {},
     "execution_count": 35
    }
   ],
   "metadata": {}
  },
  {
   "cell_type": "markdown",
   "source": [
    "# Inheritance and Polymorphism\r\n",
    "\r\n",
    "Inheritance - Making new classes from predefined classes"
   ],
   "metadata": {}
  },
  {
   "cell_type": "code",
   "execution_count": 36,
   "source": [
    "class Animal():\r\n",
    "\r\n",
    "    def __init__(self):\r\n",
    "        print(\"Animal Created\")\r\n",
    "\r\n",
    "    def who_am_i(self):\r\n",
    "        print(\"I am an animal\")\r\n",
    "    \r\n",
    "    def eat(self):\r\n",
    "        print(\"I am eating\")"
   ],
   "outputs": [],
   "metadata": {}
  },
  {
   "cell_type": "code",
   "execution_count": 37,
   "source": [
    "myanimal = Animal()"
   ],
   "outputs": [
    {
     "output_type": "stream",
     "name": "stdout",
     "text": [
      "Animal Created\n"
     ]
    }
   ],
   "metadata": {}
  },
  {
   "cell_type": "code",
   "execution_count": 38,
   "source": [
    "# Going back to our dog class.. we can pass along some of the methods to dog from the animal class!\r\n",
    "class Dog(Animal):\r\n",
    "\r\n",
    "    def __init__(self):\r\n",
    "        Animal.__init__(self)\r\n",
    "        print(\"Dog created!\")\r\n",
    "\r\n",
    "    #If I wanna override the animal class method..\r\n",
    "    def who_am_i(self):\r\n",
    "        print('I am a dog!')\r\n",
    "\r\n",
    "    #Add on methods\r\n",
    "    def bark(self):\r\n",
    "        print(\"WOOF!\")"
   ],
   "outputs": [],
   "metadata": {}
  },
  {
   "cell_type": "code",
   "execution_count": 39,
   "source": [
    "myanimal.eat()"
   ],
   "outputs": [
    {
     "output_type": "stream",
     "name": "stdout",
     "text": [
      "I am eating\n"
     ]
    }
   ],
   "metadata": {}
  },
  {
   "cell_type": "code",
   "execution_count": 40,
   "source": [
    "myDog = Dog()"
   ],
   "outputs": [
    {
     "output_type": "stream",
     "name": "stdout",
     "text": [
      "Animal Created\n",
      "Dog created!\n"
     ]
    }
   ],
   "metadata": {}
  },
  {
   "cell_type": "code",
   "execution_count": 41,
   "source": [
    "myDog.who_am_i()"
   ],
   "outputs": [
    {
     "output_type": "stream",
     "name": "stdout",
     "text": [
      "I am a dog!\n"
     ]
    }
   ],
   "metadata": {}
  },
  {
   "cell_type": "code",
   "execution_count": 42,
   "source": [
    "myDog.bark()"
   ],
   "outputs": [
    {
     "output_type": "stream",
     "name": "stdout",
     "text": [
      "WOOF!\n"
     ]
    }
   ],
   "metadata": {}
  },
  {
   "cell_type": "markdown",
   "source": [
    "Polymorphism\r\n",
    "\r\n",
    "Refers to a way in which different object classes can share the same method names. Then those methods can be called in from the same place with a variety of different objects called in."
   ],
   "metadata": {}
  },
  {
   "cell_type": "code",
   "execution_count": 43,
   "source": [
    "class Dog():\r\n",
    "    def __init__(self,name):\r\n",
    "        self.name = name\r\n",
    "\r\n",
    "    def speak(self):\r\n",
    "        return self.name + ' says \"Woof!\"'"
   ],
   "outputs": [],
   "metadata": {}
  },
  {
   "cell_type": "code",
   "execution_count": 44,
   "source": [
    "class Cat():\r\n",
    "    def __init__(self,name):\r\n",
    "        self.name = name\r\n",
    "\r\n",
    "    def speak(self):\r\n",
    "        return self.name + ' says \"Meow!\"'"
   ],
   "outputs": [],
   "metadata": {}
  },
  {
   "cell_type": "code",
   "execution_count": 45,
   "source": [
    "luna = Dog('luna')\r\n",
    "weasel = Cat('weasel')"
   ],
   "outputs": [],
   "metadata": {}
  },
  {
   "cell_type": "code",
   "execution_count": 46,
   "source": [
    "print(luna.speak())"
   ],
   "outputs": [
    {
     "output_type": "stream",
     "name": "stdout",
     "text": [
      "luna says \"Woof!\"\n"
     ]
    }
   ],
   "metadata": {}
  },
  {
   "cell_type": "code",
   "execution_count": 47,
   "source": [
    "print(weasel.speak())"
   ],
   "outputs": [
    {
     "output_type": "stream",
     "name": "stdout",
     "text": [
      "weasel says \"Meow!\"\n"
     ]
    }
   ],
   "metadata": {}
  },
  {
   "cell_type": "code",
   "execution_count": 48,
   "source": [
    "#Demo of Polymorphism through iteration\r\n",
    "\r\n",
    "for pet in [luna, weasel]:\r\n",
    "    print(type(pet))\r\n",
    "    print(pet.speak())"
   ],
   "outputs": [
    {
     "output_type": "stream",
     "name": "stdout",
     "text": [
      "<class '__main__.Dog'>\n",
      "luna says \"Woof!\"\n",
      "<class '__main__.Cat'>\n",
      "weasel says \"Meow!\"\n"
     ]
    }
   ],
   "metadata": {}
  },
  {
   "cell_type": "code",
   "execution_count": 49,
   "source": [
    "def pet_speak(pet):\r\n",
    "    print(pet.speak())"
   ],
   "outputs": [],
   "metadata": {}
  },
  {
   "cell_type": "code",
   "execution_count": 52,
   "source": [
    "pet_speak(luna)"
   ],
   "outputs": [
    {
     "output_type": "stream",
     "name": "stdout",
     "text": [
      "luna says \"Woof!\"\n"
     ]
    }
   ],
   "metadata": {}
  },
  {
   "cell_type": "code",
   "execution_count": 54,
   "source": [
    "pet_speak(weasel)"
   ],
   "outputs": [
    {
     "output_type": "stream",
     "name": "stdout",
     "text": [
      "weasel says \"Meow!\"\n"
     ]
    }
   ],
   "metadata": {}
  },
  {
   "cell_type": "code",
   "execution_count": 55,
   "source": [
    "#Abstract Class and Inheritance\r\n",
    "class Animal():\r\n",
    "\r\n",
    "    def __init__(self,name):\r\n",
    "        self.name = name\r\n",
    "\r\n",
    "    def speak(self):\r\n",
    "        raise NotImplementedError(\"Subclass must implement this abstract method\")"
   ],
   "outputs": [],
   "metadata": {}
  },
  {
   "cell_type": "code",
   "execution_count": 58,
   "source": [
    "class Dog(Animal):\r\n",
    "\r\n",
    "    def speak(self):\r\n",
    "        return self.name+ \" says woof!\""
   ],
   "outputs": [],
   "metadata": {}
  },
  {
   "cell_type": "code",
   "execution_count": 64,
   "source": [
    "class Cat(Animal):\r\n",
    "\r\n",
    "    def speak(self):\r\n",
    "        return self.name+ \" says meow!\""
   ],
   "outputs": [],
   "metadata": {}
  },
  {
   "cell_type": "code",
   "execution_count": 66,
   "source": [
    "class Fish(Animal):\r\n",
    "\r\n",
    "    pass"
   ],
   "outputs": [],
   "metadata": {}
  },
  {
   "cell_type": "code",
   "execution_count": 60,
   "source": [
    "fido = Dog('Fido')"
   ],
   "outputs": [],
   "metadata": {}
  },
  {
   "cell_type": "code",
   "execution_count": 63,
   "source": [
    "bella = Cat('Bella')"
   ],
   "outputs": [],
   "metadata": {}
  },
  {
   "cell_type": "code",
   "execution_count": 67,
   "source": [
    "nemo = Fish('Nemo')"
   ],
   "outputs": [],
   "metadata": {}
  },
  {
   "cell_type": "code",
   "execution_count": 68,
   "source": [
    "print(fido.speak())\r\n",
    "print(bella.speak())"
   ],
   "outputs": [
    {
     "output_type": "stream",
     "name": "stdout",
     "text": [
      "Fido says woof!\n",
      "Bella says meow!\n"
     ]
    }
   ],
   "metadata": {}
  },
  {
   "cell_type": "code",
   "execution_count": 70,
   "source": [
    "#print(nemo.speak())  # Throws error saying the subclass has to define a method called speak(self):"
   ],
   "outputs": [],
   "metadata": {}
  },
  {
   "cell_type": "markdown",
   "source": [
    "# Special Methods\r\n",
    "\r\n",
    "Allows us to use built in methods to toy around with our user objects"
   ],
   "metadata": {}
  },
  {
   "cell_type": "code",
   "execution_count": 71,
   "source": [
    "mylist = [1,2,3]"
   ],
   "outputs": [],
   "metadata": {}
  },
  {
   "cell_type": "code",
   "execution_count": 72,
   "source": [
    "len(mylist)"
   ],
   "outputs": [
    {
     "output_type": "execute_result",
     "data": {
      "text/plain": [
       "3"
      ]
     },
     "metadata": {},
     "execution_count": 72
    }
   ],
   "metadata": {}
  },
  {
   "cell_type": "code",
   "execution_count": 73,
   "source": [
    "class Sample():\r\n",
    "    pass"
   ],
   "outputs": [],
   "metadata": {}
  },
  {
   "cell_type": "code",
   "execution_count": 74,
   "source": [
    "mysample = Sample()"
   ],
   "outputs": [],
   "metadata": {}
  },
  {
   "cell_type": "code",
   "execution_count": 76,
   "source": [
    "#len(mysample) #Type Error --> Sample has no len()"
   ],
   "outputs": [],
   "metadata": {}
  },
  {
   "cell_type": "code",
   "execution_count": 77,
   "source": [
    "print(mysample)"
   ],
   "outputs": [
    {
     "output_type": "stream",
     "name": "stdout",
     "text": [
      "<__main__.Sample object at 0x000001C49D467CC0>\n"
     ]
    }
   ],
   "metadata": {}
  },
  {
   "cell_type": "code",
   "execution_count": 96,
   "source": [
    "#Magic Method (Dunder)\r\n",
    "class Book():\r\n",
    "\r\n",
    "    def __init__(self, title, author, pages):\r\n",
    "\r\n",
    "        self.title = title\r\n",
    "        self.author = author\r\n",
    "        self.pages = pages\r\n",
    "\r\n",
    "    def __str__(self):\r\n",
    "        return (f'\"{self.title}\"\" by {self.author}')\r\n",
    "\r\n",
    "    def __len__(self):\r\n",
    "        return self.pages\r\n",
    "\r\n",
    "    def __del__(self):\r\n",
    "        print(\"The book object has been deleted!\")"
   ],
   "outputs": [],
   "metadata": {}
  },
  {
   "cell_type": "code",
   "execution_count": 97,
   "source": [
    "b = Book('Wild Cats', 'Shawna', 250)"
   ],
   "outputs": [],
   "metadata": {}
  },
  {
   "cell_type": "code",
   "execution_count": 80,
   "source": [
    "#Before we added the def __str__ method\r\n",
    "print(b)"
   ],
   "outputs": [
    {
     "output_type": "stream",
     "name": "stdout",
     "text": [
      "<__main__.Book object at 0x000001C49D483748>\n"
     ]
    }
   ],
   "metadata": {}
  },
  {
   "cell_type": "code",
   "execution_count": 91,
   "source": [
    "#After we added the def __str__ method\r\n",
    "print(b)"
   ],
   "outputs": [
    {
     "output_type": "stream",
     "name": "stdout",
     "text": [
      "\"Wild Cats\"\" by Shawna\n"
     ]
    }
   ],
   "metadata": {}
  },
  {
   "cell_type": "code",
   "execution_count": 95,
   "source": [
    "len(b) "
   ],
   "outputs": [
    {
     "output_type": "execute_result",
     "data": {
      "text/plain": [
       "250"
      ]
     },
     "metadata": {},
     "execution_count": 95
    }
   ],
   "metadata": {}
  },
  {
   "cell_type": "code",
   "execution_count": 98,
   "source": [
    "del b # Will delete the variable.. we just added the __del__ method, now it'll give us a print statement"
   ],
   "outputs": [
    {
     "output_type": "stream",
     "name": "stdout",
     "text": [
      "The book object has been deleted!\n"
     ]
    }
   ],
   "metadata": {}
  },
  {
   "cell_type": "code",
   "execution_count": 99,
   "source": [
    "print(b)"
   ],
   "outputs": [
    {
     "output_type": "error",
     "ename": "NameError",
     "evalue": "name 'b' is not defined",
     "traceback": [
      "\u001b[1;31m---------------------------------------------------------------------------\u001b[0m",
      "\u001b[1;31mNameError\u001b[0m                                 Traceback (most recent call last)",
      "\u001b[1;32mC:\\Users\\BEAVER~1\\AppData\\Local\\Temp/ipykernel_19772/324135452.py\u001b[0m in \u001b[0;36m<module>\u001b[1;34m\u001b[0m\n\u001b[1;32m----> 1\u001b[1;33m \u001b[0mprint\u001b[0m\u001b[1;33m(\u001b[0m\u001b[0mb\u001b[0m\u001b[1;33m)\u001b[0m\u001b[1;33m\u001b[0m\u001b[1;33m\u001b[0m\u001b[0m\n\u001b[0m",
      "\u001b[1;31mNameError\u001b[0m: name 'b' is not defined"
     ]
    }
   ],
   "metadata": {}
  }
 ],
 "metadata": {
  "orig_nbformat": 4,
  "language_info": {
   "name": "python",
   "version": "3.7.3",
   "mimetype": "text/x-python",
   "codemirror_mode": {
    "name": "ipython",
    "version": 3
   },
   "pygments_lexer": "ipython3",
   "nbconvert_exporter": "python",
   "file_extension": ".py"
  },
  "kernelspec": {
   "name": "python3",
   "display_name": "Python 3.7.3 64-bit"
  },
  "interpreter": {
   "hash": "eb2c514dd9bc3b32b4e7938429fc4a419a20f94571fd536c1c25d27524eb6a7d"
  }
 },
 "nbformat": 4,
 "nbformat_minor": 2
}