{
 "cells": [
  {
   "cell_type": "code",
   "execution_count": 2,
   "source": [
    "def add (n1, n2):\r\n",
    "    print(n1+n2)"
   ],
   "outputs": [],
   "metadata": {}
  },
  {
   "cell_type": "code",
   "execution_count": 3,
   "source": [
    "add(10,20)"
   ],
   "outputs": [
    {
     "output_type": "stream",
     "name": "stdout",
     "text": [
      "30\n"
     ]
    }
   ],
   "metadata": {}
  },
  {
   "cell_type": "code",
   "execution_count": 4,
   "source": [
    "number1 = 10"
   ],
   "outputs": [],
   "metadata": {}
  },
  {
   "cell_type": "code",
   "execution_count": 6,
   "source": [
    "number2 = input(\"Give me a number: \")"
   ],
   "outputs": [],
   "metadata": {}
  },
  {
   "cell_type": "code",
   "execution_count": 7,
   "source": [
    "add(number1, number2)"
   ],
   "outputs": [
    {
     "output_type": "error",
     "ename": "TypeError",
     "evalue": "unsupported operand type(s) for +: 'int' and 'str'",
     "traceback": [
      "\u001b[1;31m---------------------------------------------------------------------------\u001b[0m",
      "\u001b[1;31mTypeError\u001b[0m                                 Traceback (most recent call last)",
      "\u001b[1;32mC:\\Users\\BEAVER~1\\AppData\\Local\\Temp/ipykernel_22400/1048627581.py\u001b[0m in \u001b[0;36m<module>\u001b[1;34m\u001b[0m\n\u001b[1;32m----> 1\u001b[1;33m \u001b[0madd\u001b[0m\u001b[1;33m(\u001b[0m\u001b[0mnumber1\u001b[0m\u001b[1;33m,\u001b[0m \u001b[0mnumber2\u001b[0m\u001b[1;33m)\u001b[0m\u001b[1;33m\u001b[0m\u001b[1;33m\u001b[0m\u001b[0m\n\u001b[0m",
      "\u001b[1;32mC:\\Users\\BEAVER~1\\AppData\\Local\\Temp/ipykernel_22400/2981426854.py\u001b[0m in \u001b[0;36madd\u001b[1;34m(n1, n2)\u001b[0m\n\u001b[0;32m      1\u001b[0m \u001b[1;32mdef\u001b[0m \u001b[0madd\u001b[0m \u001b[1;33m(\u001b[0m\u001b[0mn1\u001b[0m\u001b[1;33m,\u001b[0m \u001b[0mn2\u001b[0m\u001b[1;33m)\u001b[0m\u001b[1;33m:\u001b[0m\u001b[1;33m\u001b[0m\u001b[1;33m\u001b[0m\u001b[0m\n\u001b[1;32m----> 2\u001b[1;33m     \u001b[0mprint\u001b[0m\u001b[1;33m(\u001b[0m\u001b[0mn1\u001b[0m\u001b[1;33m+\u001b[0m\u001b[0mn2\u001b[0m\u001b[1;33m)\u001b[0m\u001b[1;33m\u001b[0m\u001b[1;33m\u001b[0m\u001b[0m\n\u001b[0m",
      "\u001b[1;31mTypeError\u001b[0m: unsupported operand type(s) for +: 'int' and 'str'"
     ]
    }
   ],
   "metadata": {}
  },
  {
   "cell_type": "code",
   "execution_count": 12,
   "source": [
    "try:\r\n",
    "    # Attempting this code\r\n",
    "    result = 10 + 10\r\n",
    "except:\r\n",
    "    # What I want to happen if there is an error\r\n",
    "    print(\"Hey, it looks like we aren't adding correctly!\")\r\n",
    "else:\r\n",
    "    print(\"Adding!\")\r\n",
    "    print(result)"
   ],
   "outputs": [
    {
     "output_type": "stream",
     "name": "stdout",
     "text": [
      "Adding!\n",
      "20\n"
     ]
    }
   ],
   "metadata": {}
  },
  {
   "cell_type": "code",
   "execution_count": 18,
   "source": [
    "try:\r\n",
    "    f = open('testfile.txt', 'w') # 'r' = read parameter --> OSError!\r\n",
    "    f.write(\"Adding this line to the text file!\")\r\n",
    "except TypeError:\r\n",
    "    print(\"Type error has occured!\")\r\n",
    "except OSError:\r\n",
    "    print('I/O Error has occured!')\r\n",
    "except: # Catch all errors\r\n",
    "    print('All other exceptions!')\r\n",
    "finally:\r\n",
    "    print(\"I always run\")"
   ],
   "outputs": [
    {
     "output_type": "stream",
     "name": "stdout",
     "text": [
      "I always run\n"
     ]
    }
   ],
   "metadata": {}
  },
  {
   "cell_type": "code",
   "execution_count": 25,
   "source": [
    "def ask_for_int():\r\n",
    "    \r\n",
    "    while True: \r\n",
    "        try:\r\n",
    "            result = int(input(\"Please Provide Number: \"))\r\n",
    "        except:\r\n",
    "            print(\"That was not a number!\")\r\n",
    "            continue\r\n",
    "        else:\r\n",
    "            print('Thank you for your input')\r\n",
    "            break #Kills the while loop\r\n",
    "        finally:\r\n",
    "            print(\"End of try/except/finally\") #Always gonna run at the end"
   ],
   "outputs": [],
   "metadata": {}
  },
  {
   "cell_type": "code",
   "execution_count": 26,
   "source": [
    "ask_for_int()"
   ],
   "outputs": [
    {
     "output_type": "stream",
     "name": "stdout",
     "text": [
      "That was not a number!\n",
      "End of try/except/finally\n",
      "That was not a number!\n",
      "End of try/except/finally\n",
      "That was not a number!\n",
      "End of try/except/finally\n",
      "Thank you for your input\n",
      "End of try/except/finally\n"
     ]
    }
   ],
   "metadata": {}
  },
  {
   "cell_type": "code",
   "execution_count": null,
   "source": [],
   "outputs": [],
   "metadata": {}
  },
  {
   "cell_type": "code",
   "execution_count": null,
   "source": [],
   "outputs": [],
   "metadata": {}
  }
 ],
 "metadata": {
  "orig_nbformat": 4,
  "language_info": {
   "name": "python",
   "version": "3.7.3",
   "mimetype": "text/x-python",
   "codemirror_mode": {
    "name": "ipython",
    "version": 3
   },
   "pygments_lexer": "ipython3",
   "nbconvert_exporter": "python",
   "file_extension": ".py"
  },
  "kernelspec": {
   "name": "python3",
   "display_name": "Python 3.7.3 64-bit"
  },
  "interpreter": {
   "hash": "eb2c514dd9bc3b32b4e7938429fc4a419a20f94571fd536c1c25d27524eb6a7d"
  }
 },
 "nbformat": 4,
 "nbformat_minor": 2
}