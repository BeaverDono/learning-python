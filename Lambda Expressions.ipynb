{
 "cells": [
  {
   "cell_type": "markdown",
   "id": "e7f99529",
   "metadata": {},
   "source": [
    "# Map Function\n",
    "Built-in function that lets you go through all the items in an iterable (list) without the use of a loop.\n",
    "Also known as mapping!"
   ]
  },
  {
   "cell_type": "code",
   "execution_count": 1,
   "id": "c7625c81",
   "metadata": {},
   "outputs": [],
   "source": [
    "def square(num):\n",
    "    return(num**2)"
   ]
  },
  {
   "cell_type": "code",
   "execution_count": 2,
   "id": "76f8b2fe",
   "metadata": {},
   "outputs": [],
   "source": [
    "my_nums = [1,2,3,4,5]"
   ]
  },
  {
   "cell_type": "code",
   "execution_count": 3,
   "id": "0db4d509",
   "metadata": {},
   "outputs": [
    {
     "data": {
      "text/plain": [
       "<map at 0x2576d7d5af0>"
      ]
     },
     "execution_count": 3,
     "metadata": {},
     "output_type": "execute_result"
    }
   ],
   "source": [
    "map(square, my_nums) #Only returns memory location by itself"
   ]
  },
  {
   "cell_type": "code",
   "execution_count": 4,
   "id": "05f10037",
   "metadata": {},
   "outputs": [
    {
     "name": "stdout",
     "output_type": "stream",
     "text": [
      "1\n",
      "4\n",
      "9\n",
      "16\n",
      "25\n"
     ]
    }
   ],
   "source": [
    "for item in map(square, my_nums):\n",
    "    print(item)"
   ]
  },
  {
   "cell_type": "code",
   "execution_count": 6,
   "id": "a788ebb3",
   "metadata": {},
   "outputs": [
    {
     "data": {
      "text/plain": [
       "[1, 4, 9, 16, 25]"
      ]
     },
     "execution_count": 6,
     "metadata": {},
     "output_type": "execute_result"
    }
   ],
   "source": [
    "list(map(square,my_nums))"
   ]
  },
  {
   "cell_type": "code",
   "execution_count": 8,
   "id": "6c29367e",
   "metadata": {},
   "outputs": [],
   "source": [
    "def splicer(mystring):\n",
    "    if len(mystring)%2 == 0:\n",
    "        return 'EVEN'\n",
    "    else:\n",
    "        return mystring[0]"
   ]
  },
  {
   "cell_type": "code",
   "execution_count": 10,
   "id": "7a6d5257",
   "metadata": {},
   "outputs": [],
   "source": [
    "names = ['Chris', 'Oliver', 'Shawna', 'Michelle']"
   ]
  },
  {
   "cell_type": "code",
   "execution_count": 18,
   "id": "09fe3d72",
   "metadata": {},
   "outputs": [
    {
     "data": {
      "text/plain": [
       "['C', 'EVEN', 'EVEN', 'EVEN']"
      ]
     },
     "execution_count": 18,
     "metadata": {},
     "output_type": "execute_result"
    }
   ],
   "source": [
    "list(map(splicer,names)) \n",
    "# Notice splicer is being passed into map and not being called to execute. splicer != splicer() \n",
    "# We are only passing in the function as an argument. Map will handle the execution.\n",
    "# Map basically applied the function \"splicer\" to every element in the list \"names\""
   ]
  },
  {
   "cell_type": "markdown",
   "id": "fb488fdc",
   "metadata": {},
   "source": [
    "# Filter Function\n",
    "Checks to see if it true/false in iteration"
   ]
  },
  {
   "cell_type": "code",
   "execution_count": 16,
   "id": "a22475bc",
   "metadata": {},
   "outputs": [],
   "source": [
    "def check_even(num):\n",
    "    return(num%2 == 0)"
   ]
  },
  {
   "cell_type": "code",
   "execution_count": 17,
   "id": "24c73a29",
   "metadata": {},
   "outputs": [],
   "source": [
    "mynums = [0,1,2,3,4,5,6]"
   ]
  },
  {
   "cell_type": "code",
   "execution_count": 19,
   "id": "7d563fdf",
   "metadata": {},
   "outputs": [
    {
     "data": {
      "text/plain": [
       "<filter at 0x2576d7d5340>"
      ]
     },
     "execution_count": 19,
     "metadata": {},
     "output_type": "execute_result"
    }
   ],
   "source": [
    "filter(check_even, mynums) # Once again only returns memory address.. soooo..."
   ]
  },
  {
   "cell_type": "code",
   "execution_count": 21,
   "id": "95e7fc48",
   "metadata": {},
   "outputs": [
    {
     "name": "stdout",
     "output_type": "stream",
     "text": [
      "0\n",
      "2\n",
      "4\n",
      "6\n"
     ]
    }
   ],
   "source": [
    "# We can just apply it to a list\n",
    "# list(filter(check_even, mynums))\n",
    "# OR A LOOP!\n",
    "\n",
    "for n in filter(check_even, mynums):\n",
    "    print (n)"
   ]
  },
  {
   "cell_type": "markdown",
   "id": "13ecc302",
   "metadata": {},
   "source": [
    "# Lambda Expression\n",
    "Single expression functions without an actual name (anonymous)"
   ]
  },
  {
   "cell_type": "code",
   "execution_count": 22,
   "id": "9ee8d251",
   "metadata": {},
   "outputs": [],
   "source": [
    "def square(num):\n",
    "    result = num ** 2\n",
    "    return result"
   ]
  },
  {
   "cell_type": "code",
   "execution_count": 24,
   "id": "d142e819",
   "metadata": {},
   "outputs": [
    {
     "data": {
      "text/plain": [
       "9"
      ]
     },
     "execution_count": 24,
     "metadata": {},
     "output_type": "execute_result"
    }
   ],
   "source": [
    "square(3)"
   ]
  },
  {
   "cell_type": "code",
   "execution_count": 27,
   "id": "f984eef3",
   "metadata": {},
   "outputs": [],
   "source": [
    "# Simplify the function\n",
    "def square(num): return(num**2)"
   ]
  },
  {
   "cell_type": "code",
   "execution_count": 29,
   "id": "69ab286b",
   "metadata": {},
   "outputs": [
    {
     "data": {
      "text/plain": [
       "81"
      ]
     },
     "execution_count": 29,
     "metadata": {},
     "output_type": "execute_result"
    }
   ],
   "source": [
    "square(9)"
   ]
  },
  {
   "cell_type": "code",
   "execution_count": 31,
   "id": "8aa6acd8",
   "metadata": {},
   "outputs": [],
   "source": [
    "# Lambda time \n",
    "# Doesn't need a return or to be declared as a function, one time \n",
    "lambda num: num ** 2"
   ]
  },
  {
   "cell_type": "code",
   "execution_count": 35,
   "id": "6fd08cdf",
   "metadata": {},
   "outputs": [
    {
     "data": {
      "text/plain": [
       "[0, 1, 4, 9, 16, 25, 36]"
      ]
     },
     "execution_count": 35,
     "metadata": {},
     "output_type": "execute_result"
    }
   ],
   "source": [
    "list(map(lambda num:num**2,mynums))"
   ]
  },
  {
   "cell_type": "code",
   "execution_count": 38,
   "id": "e7e59f38",
   "metadata": {},
   "outputs": [
    {
     "data": {
      "text/plain": [
       "[0, 2, 4, 6]"
      ]
     },
     "execution_count": 38,
     "metadata": {},
     "output_type": "execute_result"
    }
   ],
   "source": [
    "list(filter(lambda num:num%2 == 0,mynums))"
   ]
  },
  {
   "cell_type": "code",
   "execution_count": 39,
   "id": "59294fce",
   "metadata": {},
   "outputs": [
    {
     "data": {
      "text/plain": [
       "['Chris', 'Oliver', 'Shawna', 'Michelle']"
      ]
     },
     "execution_count": 39,
     "metadata": {},
     "output_type": "execute_result"
    }
   ],
   "source": [
    "names"
   ]
  },
  {
   "cell_type": "code",
   "execution_count": 42,
   "id": "c288e717",
   "metadata": {},
   "outputs": [
    {
     "data": {
      "text/plain": [
       "['C', 'O', 'S', 'M']"
      ]
     },
     "execution_count": 42,
     "metadata": {},
     "output_type": "execute_result"
    }
   ],
   "source": [
    "list(map(lambda x:x[0], names))  # 'x' can be named anything btw as long as it isn't a keyword and of course both 'x's match"
   ]
  },
  {
   "cell_type": "code",
   "execution_count": 44,
   "id": "36dc3a67",
   "metadata": {},
   "outputs": [
    {
     "data": {
      "text/plain": [
       "['sirhC', 'revilO', 'anwahS', 'ellehciM']"
      ]
     },
     "execution_count": 44,
     "metadata": {},
     "output_type": "execute_result"
    }
   ],
   "source": [
    "list(map(lambda meow:meow[::-1], names))"
   ]
  },
  {
   "cell_type": "markdown",
   "id": "9fb0d898",
   "metadata": {},
   "source": [
    "# Thoughts on Lambda...\n",
    "In reality, using lambda is great for simplistic functions. You wanna keep it readible! Especially if you return to your code later on."
   ]
  },
  {
   "cell_type": "code",
   "execution_count": null,
   "id": "7afe4fe1",
   "metadata": {},
   "outputs": [],
   "source": []
  }
 ],
 "metadata": {
  "kernelspec": {
   "display_name": "Python 3",
   "language": "python",
   "name": "python3"
  },
  "language_info": {
   "codemirror_mode": {
    "name": "ipython",
    "version": 3
   },
   "file_extension": ".py",
   "mimetype": "text/x-python",
   "name": "python",
   "nbconvert_exporter": "python",
   "pygments_lexer": "ipython3",
   "version": "3.8.8"
  }
 },
 "nbformat": 4,
 "nbformat_minor": 5
}
