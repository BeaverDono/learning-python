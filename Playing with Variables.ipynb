{
 "cells": [
  {
   "cell_type": "code",
   "execution_count": 2,
   "source": [
    "a = 5\r\n",
    "print(a)"
   ],
   "outputs": [
    {
     "output_type": "stream",
     "name": "stdout",
     "text": [
      "5\n"
     ]
    }
   ],
   "metadata": {}
  },
  {
   "cell_type": "code",
   "execution_count": 11,
   "source": [
    "a = 7\r\n",
    "print(a)\r\n",
    "a = \"Chris\"\r\n",
    "print(a)\r\n",
    "a = \"Chris \", 7\r\n",
    "print(a)"
   ],
   "outputs": [
    {
     "output_type": "stream",
     "name": "stdout",
     "text": [
      "7\n",
      "Chris\n",
      "('Chris ', 7)\n"
     ]
    }
   ],
   "metadata": {}
  },
  {
   "cell_type": "code",
   "execution_count": 14,
   "source": [
    "a = 7\r\n",
    "print(a)\r\n",
    "\r\n",
    "a = a, \"Chris\"\r\n",
    "print(a)\r\n",
    "\r\n",
    "#No data protection? Variable is wide open to accepting any data unless a method is called to double check the value unless..."
   ],
   "outputs": [
    {
     "output_type": "stream",
     "name": "stdout",
     "text": [
      "7\n",
      "(7, 'Chris')\n"
     ]
    }
   ],
   "metadata": {}
  },
  {
   "cell_type": "code",
   "execution_count": 34,
   "source": [
    "# How C handles this..\r\n",
    "# int intNumber = 20;\r\n",
    "\r\n",
    "#Python method..\r\n",
    "\r\n",
    "intNumber = int(20)\r\n",
    "intNumTwo = float(30)\r\n",
    "\r\n",
    "print('intNumber has the value of', intNumber)\r\n",
    "print('intNumber is', type(intNumber), '\\n')\r\n",
    "\r\n",
    "print('intNumTwo has the value of', intNumTwo)\r\n",
    "print('intNumTwo is', type(intNumTwo), '\\n')\r\n",
    "\r\n",
    "# Doesn't lock the variable into being that type.. ?\r\n",
    "\r\n",
    "intNumber = 'Chris'\r\n",
    "print(intNumber, '\\n')"
   ],
   "outputs": [
    {
     "output_type": "stream",
     "name": "stdout",
     "text": [
      "intNumber has the value of 20\n",
      "intNumber is <class 'int'> \n",
      "\n",
      "intNumTwo has the value of 30.0\n",
      "intNumTwo is <class 'float'> \n",
      "\n",
      "Chris \n",
      "\n"
     ]
    }
   ],
   "metadata": {}
  },
  {
   "cell_type": "code",
   "execution_count": 60,
   "source": [
    "# After some Googling and RTFMing.. dynamically typed language, you can't enforce types but you can use a thing \r\n",
    "# called 'type hints' and 'variable annotation' then force type checking. This could cause headaches down the \r\n",
    "# road with larger and more complex programs when you have to debug\r\n",
    "\r\n",
    "def intNumber(a: int, b: int) -> int:\r\n",
    "    return a + b\r\n",
    "\r\n",
    "print(intNumber(7, 42))\r\n",
    "print(intNumber('Sonic ','Mario'))\r\n",
    "\r\n",
    "# This throws a syntax error.. interesting.. could be used as a dirty forced static \r\n",
    "# type when dealing with user input after adding some exception handling?\r\n",
    "\r\n",
    "# print(intNumber('Mario', 100))"
   ],
   "outputs": [
    {
     "output_type": "stream",
     "name": "stdout",
     "text": [
      "49\n",
      "Sonic Mario\n"
     ]
    }
   ],
   "metadata": {}
  },
  {
   "cell_type": "markdown",
   "source": [
    "Coming back to this file after getting home, toying some more with variables"
   ],
   "metadata": {}
  },
  {
   "cell_type": "code",
   "execution_count": 4,
   "source": [
    "a = 'dog'\r\n",
    "type(a)"
   ],
   "outputs": [
    {
     "output_type": "execute_result",
     "data": {
      "text/plain": [
       "str"
      ]
     },
     "metadata": {},
     "execution_count": 4
    }
   ],
   "metadata": {}
  },
  {
   "cell_type": "code",
   "execution_count": 6,
   "source": [
    "myIncome = 100\r\n",
    "\r\n",
    "tax_rate = 0.1\r\n",
    "\r\n",
    "my_taxes = myIncome * tax_rate\r\n",
    "\r\n",
    "print(my_taxes)"
   ],
   "outputs": [
    {
     "output_type": "stream",
     "name": "stdout",
     "text": [
      "10.0\n"
     ]
    }
   ],
   "metadata": {}
  },
  {
   "cell_type": "markdown",
   "source": [
    "Playing with Strings now.."
   ],
   "metadata": {}
  },
  {
   "cell_type": "code",
   "execution_count": 7,
   "source": [
    "# These are strings\r\n",
    "'hello' \r\n",
    "\"world\"\r\n",
    "'this is a string also'\r\n",
    "\r\n",
    "#' I'm going for a run' <-- Error\r\n",
    "\"I'm going for a run\""
   ],
   "outputs": [
    {
     "output_type": "execute_result",
     "data": {
      "text/plain": [
       "\"I'm going for a run\""
      ]
     },
     "metadata": {},
     "execution_count": 7
    }
   ],
   "metadata": {}
  },
  {
   "cell_type": "code",
   "execution_count": 8,
   "source": [
    "print('hello world')\r\n",
    "print('hello world two')"
   ],
   "outputs": [
    {
     "output_type": "stream",
     "name": "stdout",
     "text": [
      "hello world\n",
      "hello world two\n"
     ]
    }
   ],
   "metadata": {}
  },
  {
   "cell_type": "code",
   "execution_count": 10,
   "source": [
    "print('hello \\n world')\r\n",
    "print('hello \\tworld')"
   ],
   "outputs": [
    {
     "output_type": "stream",
     "name": "stdout",
     "text": [
      "hello \n",
      " world\n",
      "hello \tworld\n"
     ]
    }
   ],
   "metadata": {}
  },
  {
   "cell_type": "code",
   "execution_count": 13,
   "source": [
    "#Length of the string\r\n",
    "print(len('hello'))  #Forcing it to show when ran\r\n",
    "len('I am hungry')"
   ],
   "outputs": [
    {
     "output_type": "stream",
     "name": "stdout",
     "text": [
      "5\n"
     ]
    },
    {
     "output_type": "execute_result",
     "data": {
      "text/plain": [
       "11"
      ]
     },
     "metadata": {},
     "execution_count": 13
    }
   ],
   "metadata": {}
  },
  {
   "cell_type": "code",
   "execution_count": 14,
   "source": [
    "#Slicing and Indexing\r\n",
    "\r\n",
    "mystring = \"Hello World\"\r\n",
    "print(mystring)"
   ],
   "outputs": [
    {
     "output_type": "stream",
     "name": "stdout",
     "text": [
      "Hello World\n"
     ]
    }
   ],
   "metadata": {}
  },
  {
   "cell_type": "code",
   "execution_count": 17,
   "source": [
    "#Indexing\r\n",
    "mystring[3]"
   ],
   "outputs": [
    {
     "output_type": "execute_result",
     "data": {
      "text/plain": [
       "'l'"
      ]
     },
     "metadata": {},
     "execution_count": 17
    }
   ],
   "metadata": {}
  },
  {
   "cell_type": "code",
   "execution_count": 16,
   "source": [
    "#Reverse Indexing\r\n",
    "mystring[-1]"
   ],
   "outputs": [
    {
     "output_type": "execute_result",
     "data": {
      "text/plain": [
       "'d'"
      ]
     },
     "metadata": {},
     "execution_count": 16
    }
   ],
   "metadata": {}
  },
  {
   "cell_type": "code",
   "execution_count": 18,
   "source": [
    "#Slicing\r\n",
    "myAlpha = 'abcdefghijk'\r\n",
    "\r\n",
    "#Starting at position 2 --> The End of the string\r\n",
    "myAlpha[2:]"
   ],
   "outputs": [
    {
     "output_type": "execute_result",
     "data": {
      "text/plain": [
       "'cdefghijk'"
      ]
     },
     "metadata": {},
     "execution_count": 18
    }
   ],
   "metadata": {}
  },
  {
   "cell_type": "code",
   "execution_count": 20,
   "source": [
    "#Slicing like this only takes in the position 0-2 (ABC) but\r\n",
    "#does not include position 3 (letter 'D') itself \r\n",
    "myAlpha[:3]"
   ],
   "outputs": [
    {
     "output_type": "execute_result",
     "data": {
      "text/plain": [
       "'abc'"
      ]
     },
     "metadata": {},
     "execution_count": 20
    }
   ],
   "metadata": {}
  },
  {
   "cell_type": "code",
   "execution_count": 21,
   "source": [
    "#Slicing in the middle\r\n",
    "myAlpha[3:6] #Grabs 'def'"
   ],
   "outputs": [
    {
     "output_type": "execute_result",
     "data": {
      "text/plain": [
       "'def'"
      ]
     },
     "metadata": {},
     "execution_count": 21
    }
   ],
   "metadata": {}
  },
  {
   "cell_type": "code",
   "execution_count": 23,
   "source": [
    "#Attempting to grab 'HI' --> REMEMBER COUNT FROM 0!\r\n",
    "myAlpha[7:9]"
   ],
   "outputs": [
    {
     "output_type": "execute_result",
     "data": {
      "text/plain": [
       "'hi'"
      ]
     },
     "metadata": {},
     "execution_count": 23
    }
   ],
   "metadata": {}
  },
  {
   "cell_type": "code",
   "execution_count": 24,
   "source": [
    "#GRAB IT ALL.. could just call the variable\r\n",
    "myAlpha[::]"
   ],
   "outputs": [
    {
     "output_type": "execute_result",
     "data": {
      "text/plain": [
       "'abcdefghijk'"
      ]
     },
     "metadata": {},
     "execution_count": 24
    }
   ],
   "metadata": {}
  },
  {
   "cell_type": "code",
   "execution_count": 25,
   "source": [
    "#.. but you can do steps through the string (Step Size)\r\n",
    "myAlpha[::2]"
   ],
   "outputs": [
    {
     "output_type": "execute_result",
     "data": {
      "text/plain": [
       "'acegik'"
      ]
     },
     "metadata": {},
     "execution_count": 25
    }
   ],
   "metadata": {}
  },
  {
   "cell_type": "code",
   "execution_count": 26,
   "source": [
    "#Or reverse a string!\r\n",
    "myAlpha[::-1]"
   ],
   "outputs": [
    {
     "output_type": "execute_result",
     "data": {
      "text/plain": [
       "'kjihgfedcba'"
      ]
     },
     "metadata": {},
     "execution_count": 26
    }
   ],
   "metadata": {}
  },
  {
   "cell_type": "code",
   "execution_count": 27,
   "source": [
    "#Messing with indexing without a variable\r\n",
    "'Hello World'[8]"
   ],
   "outputs": [
    {
     "output_type": "execute_result",
     "data": {
      "text/plain": [
       "'r'"
      ]
     },
     "metadata": {},
     "execution_count": 27
    }
   ],
   "metadata": {}
  },
  {
   "cell_type": "markdown",
   "source": [
    "Immutability"
   ],
   "metadata": {}
  },
  {
   "cell_type": "code",
   "execution_count": 28,
   "source": [
    "name = \"Sam\""
   ],
   "outputs": [],
   "metadata": {}
  },
  {
   "cell_type": "code",
   "execution_count": 34,
   "source": [
    "# name[0] = 'P' <-- Doesn't work to change the S in 'Sam'\r\n",
    "\r\n",
    "last_letters = name[1:]\r\n",
    "'P' + last_letters "
   ],
   "outputs": [
    {
     "output_type": "execute_result",
     "data": {
      "text/plain": [
       "'Pam'"
      ]
     },
     "metadata": {},
     "execution_count": 34
    }
   ],
   "metadata": {}
  },
  {
   "cell_type": "code",
   "execution_count": 35,
   "source": [
    "letter = 'z'\r\n",
    "letter * 10"
   ],
   "outputs": [
    {
     "output_type": "execute_result",
     "data": {
      "text/plain": [
       "'zzzzzzzzzz'"
      ]
     },
     "metadata": {},
     "execution_count": 35
    }
   ],
   "metadata": {}
  },
  {
   "cell_type": "code",
   "execution_count": 41,
   "source": [
    "# Dorking around with attriubes and methods\r\n",
    "UpperLetter = letter[0].upper()\r\n",
    "strSleep = UpperLetter + letter \r\n",
    "strSleep * 10 + '...'"
   ],
   "outputs": [
    {
     "output_type": "execute_result",
     "data": {
      "text/plain": [
       "'ZzZzZzZzZzZzZzZzZzZz...'"
      ]
     },
     "metadata": {},
     "execution_count": 41
    }
   ],
   "metadata": {}
  },
  {
   "cell_type": "code",
   "execution_count": 43,
   "source": [
    "strWorld = 'Hello World'\r\n",
    "print(strWorld.split())\r\n",
    "\r\n",
    "#Split on the 'o'\r\n",
    "strWorld.split('o')"
   ],
   "outputs": [
    {
     "output_type": "execute_result",
     "data": {
      "text/plain": [
       "['Hell', ' W', 'rld']"
      ]
     },
     "metadata": {},
     "execution_count": 43
    }
   ],
   "metadata": {}
  }
 ],
 "metadata": {
  "kernelspec": {
   "name": "python3",
   "display_name": "Python 3.7.3 64-bit"
  },
  "language_info": {
   "codemirror_mode": {
    "name": "ipython",
    "version": 3
   },
   "file_extension": ".py",
   "mimetype": "text/x-python",
   "name": "python",
   "nbconvert_exporter": "python",
   "pygments_lexer": "ipython3",
   "version": "3.7.3"
  },
  "interpreter": {
   "hash": "eb2c514dd9bc3b32b4e7938429fc4a419a20f94571fd536c1c25d27524eb6a7d"
  }
 },
 "nbformat": 4,
 "nbformat_minor": 5
}