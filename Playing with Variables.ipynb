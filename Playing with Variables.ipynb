{
 "cells": [
  {
   "cell_type": "code",
   "execution_count": 2,
   "id": "6970c67c",
   "metadata": {},
   "outputs": [
    {
     "name": "stdout",
     "output_type": "stream",
     "text": [
      "5\n"
     ]
    }
   ],
   "source": [
    "a = 5\n",
    "print(a)"
   ]
  },
  {
   "cell_type": "code",
   "execution_count": 11,
   "id": "063e6972",
   "metadata": {},
   "outputs": [
    {
     "name": "stdout",
     "output_type": "stream",
     "text": [
      "7\n",
      "Chris\n",
      "('Chris ', 7)\n"
     ]
    }
   ],
   "source": [
    "a = 7\n",
    "print(a)\n",
    "a = \"Chris\"\n",
    "print(a)\n",
    "a = \"Chris \", 7\n",
    "print(a)"
   ]
  },
  {
   "cell_type": "code",
   "execution_count": 14,
   "id": "5bfc6133",
   "metadata": {},
   "outputs": [
    {
     "name": "stdout",
     "output_type": "stream",
     "text": [
      "7\n",
      "(7, 'Chris')\n"
     ]
    }
   ],
   "source": [
    "a = 7\n",
    "print(a)\n",
    "\n",
    "a = a, \"Chris\"\n",
    "print(b)\n",
    "\n",
    "#No data protection? Variable is wide open to accepting any data unless a method is called to double check the value unless..."
   ]
  },
  {
   "cell_type": "code",
   "execution_count": 34,
   "id": "2acb24af",
   "metadata": {},
   "outputs": [
    {
     "name": "stdout",
     "output_type": "stream",
     "text": [
      "intNumber has the value of 20\n",
      "intNumber is <class 'int'> \n",
      "\n",
      "intNumTwo has the value of 30.0\n",
      "intNumTwo is <class 'float'> \n",
      "\n",
      "Chris \n",
      "\n"
     ]
    }
   ],
   "source": [
    "# How C handles this..\n",
    "# int intNumber = 20;\n",
    "\n",
    "#Python method..\n",
    "\n",
    "intNumber = int(20)\n",
    "intNumTwo = float(30)\n",
    "\n",
    "print('intNumber has the value of', intNumber)\n",
    "print('intNumber is', type(intNumber), '\\n')\n",
    "\n",
    "print('intNumTwo has the value of', intNumTwo)\n",
    "print('intNumTwo is', type(intNumTwo), '\\n')\n",
    "\n",
    "# Doesn't lock the variable into being that type.. ?\n",
    "\n",
    "intNumber = 'Chris'\n",
    "print(intNumber, '\\n')"
   ]
  },
  {
   "cell_type": "code",
   "execution_count": 60,
   "id": "96fcd116",
   "metadata": {},
   "outputs": [
    {
     "name": "stdout",
     "output_type": "stream",
     "text": [
      "49\n",
      "Sonic Mario\n"
     ]
    }
   ],
   "source": [
    "# After some Googling and RTFMing.. dynamically typed language, you can't enforce types but you can use a thing \n",
    "# called 'type hints' and 'variable annotation' then force type checking. This could cause headaches down the \n",
    "# road with larger and more complex programs when you have to debug\n",
    "\n",
    "def intNumber(a: int, b: int) -> int:\n",
    "    return a + b\n",
    "\n",
    "print(intNumber(7, 42))\n",
    "print(intNumber('Sonic ','Mario'))\n",
    "\n",
    "# This throws a syntax error.. interesting.. could be used as a dirty forced static \n",
    "# type when dealing with user input after adding some exception handling?\n",
    "\n",
    "# print(intNumber('Mario', 100))"
   ]
  },
  {
   "cell_type": "code",
   "execution_count": null,
   "id": "80ff30bc",
   "metadata": {},
   "outputs": [],
   "source": []
  }
 ],
 "metadata": {
  "kernelspec": {
   "display_name": "Python 3",
   "language": "python",
   "name": "python3"
  },
  "language_info": {
   "codemirror_mode": {
    "name": "ipython",
    "version": 3
   },
   "file_extension": ".py",
   "mimetype": "text/x-python",
   "name": "python",
   "nbconvert_exporter": "python",
   "pygments_lexer": "ipython3",
   "version": "3.8.8"
  }
 },
 "nbformat": 4,
 "nbformat_minor": 5
}
